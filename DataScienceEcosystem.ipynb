{
 "cells": [
  {
   "cell_type": "markdown",
   "id": "d0c02a19-5296-4f03-8eeb-c42510afece7",
   "metadata": {},
   "source": [
    "# Data Science Tools and Ecosystem\n"
   ]
  },
  {
   "cell_type": "markdown",
   "id": "34092dd4-8a83-465e-8538-0b1dcc5d262b",
   "metadata": {},
   "source": [
    "#### *This notebook is a quick guide for Data Science Tools and Ecosystem.*\n"
   ]
  },
  {
   "cell_type": "markdown",
   "id": "3518cdd7-0ef7-4642-8c8f-d81095637160",
   "metadata": {},
   "source": [
    "# **Objectives**\n",
    "---------------------------"
   ]
  },
  {
   "cell_type": "markdown",
   "id": "d9347184-cb7c-4557-b94a-65c11b18cc48",
   "metadata": {},
   "source": [
    "- List popular languages for data science\n",
    "- List IDEs used for data science\n",
    "- Give examples of arithmetic expressions\n",
    "- Show popular libraries used in data science"
   ]
  },
  {
   "cell_type": "markdown",
   "id": "94bac234-9e88-49de-8884-5a14add3186a",
   "metadata": {},
   "source": [
    "### Data Science Languages\n",
    "---------"
   ]
  },
  {
   "attachments": {},
   "cell_type": "markdown",
   "id": "13a3826e-8ddf-471d-9426-b3f68e718cea",
   "metadata": {},
   "source": [
    "**Some of the popular languages that Data Scientists use are:**\n",
    "\n",
    "1. Python\n",
    "2. R\n",
    "3. Java\n",
    "4. Julia\n",
    "5. SQL"
   ]
  },
  {
   "cell_type": "markdown",
   "id": "5b9718d6-f36a-466a-833f-421860e92b40",
   "metadata": {},
   "source": [
    "### Data Science Libraries\n",
    "----------"
   ]
  },
  {
   "cell_type": "markdown",
   "id": "0ecf6990-e210-40b9-875a-f7620612e705",
   "metadata": {},
   "source": [
    "**Some of the commonly used libraries used by Data Scientists include:**\n",
    "\n",
    "1. Pandas\n",
    "2. Matplotlib\n",
    "3. SciPy\n",
    "4. NumPy\n"
   ]
  },
  {
   "cell_type": "markdown",
   "id": "1009d8fc-88bf-42fe-bdde-eedfb00cf41f",
   "metadata": {},
   "source": [
    "### Data Science IDE\n",
    "-----------------------"
   ]
  },
  {
   "cell_type": "markdown",
   "id": "d826af94-146a-42b6-98cb-edb129cf979e",
   "metadata": {},
   "source": [
    "| Data Science Tools |\n",
    "|--------------------|\n",
    "| Jupyter Notebook |\n",
    "| Visual Studio Code |\n",
    "| RStudio |\n"
   ]
  },
  {
   "cell_type": "markdown",
   "id": "62bc18f8-6977-482c-a066-64c47804124e",
   "metadata": {},
   "source": [
    "### Arithmetic Expression"
   ]
  },
  {
   "cell_type": "markdown",
   "id": "e494d9fa-4a37-448d-9ea6-420cf55744bf",
   "metadata": {},
   "source": [
    "### Below are a few examples of evaluating arithmetic expressions in Python:\n",
    "----------------------------------------"
   ]
  },
  {
   "cell_type": "markdown",
   "id": "d5dd1e9b-05aa-4e16-8a16-95bf0d98e070",
   "metadata": {},
   "source": [
    "***This a simple arithmetic expression to mutiply then add integers***"
   ]
  },
  {
   "cell_type": "code",
   "execution_count": 2,
   "id": "799103d8-aa5e-424b-9608-19664a07b974",
   "metadata": {},
   "outputs": [
    {
     "data": {
      "text/plain": [
       "17"
      ]
     },
     "execution_count": 2,
     "metadata": {},
     "output_type": "execute_result"
    }
   ],
   "source": [
    "(3*4)+5"
   ]
  },
  {
   "cell_type": "markdown",
   "id": "0bdfea37-50dd-452a-85df-83aa68f7631f",
   "metadata": {},
   "source": [
    "***This will convert 200 minutes to hours by diving by 60***"
   ]
  },
  {
   "cell_type": "code",
   "execution_count": 4,
   "id": "bbb21e15-1b6b-4ea3-899c-ddeeb658713d",
   "metadata": {},
   "outputs": [
    {
     "data": {
      "text/plain": [
       "3.3333333333333335"
      ]
     },
     "execution_count": 4,
     "metadata": {},
     "output_type": "execute_result"
    }
   ],
   "source": [
    "200/60"
   ]
  },
  {
   "cell_type": "markdown",
   "id": "0b0f0a80-c322-42fc-8939-1cba70c1ed6c",
   "metadata": {},
   "source": [
    "## ***Author***\n",
    "--------\n",
    "Garman G."
   ]
  },
  {
   "cell_type": "code",
   "execution_count": null,
   "id": "b336d3aa-c484-4358-9ad7-a1c84d9af547",
   "metadata": {},
   "outputs": [],
   "source": []
  }
 ],
 "metadata": {
  "kernelspec": {
   "display_name": "Python 3 (ipykernel)",
   "language": "python",
   "name": "python3"
  },
  "language_info": {
   "codemirror_mode": {
    "name": "ipython",
    "version": 3
   },
   "file_extension": ".py",
   "mimetype": "text/x-python",
   "name": "python",
   "nbconvert_exporter": "python",
   "pygments_lexer": "ipython3",
   "version": "3.12.2"
  }
 },
 "nbformat": 4,
 "nbformat_minor": 5
}
